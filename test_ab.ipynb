{
 "cells": [
  {
   "cell_type": "markdown",
   "metadata": {},
   "source": [
    "# Análisis de prueba A/B: Sistema de Recomendaciones"
   ]
  },
  {
   "cell_type": "markdown",
   "metadata": {},
   "source": [
    "## 1. Objetivos del estudio"
   ]
  },
  {
   "cell_type": "markdown",
   "metadata": {},
   "source": [
    "### 🎯 Propósito general\n",
    "Evaluar si la introducción de un **nuevo sistema de recomendaciones** en la tienda en línea mejora las tasas de conversión en comparación con el sistema actual.\n",
    "\n",
    "---\n",
    "\n",
    "### 🧪 Contexto del experimento\n",
    "\n",
    "| Elemento                     | Descripción                                               |\n",
    "|-----------------------------|-----------------------------------------------------------|\n",
    "| **Nombre del experimento**  | `recommender_system_test`                                 |\n",
    "| **Grupo A (control)**       | Sistema de recomendaciones actual                         |\n",
    "| **Grupo B (experimental)**  | Nuevo sistema de recomendaciones                          |\n",
    "| **Audiencia**               | 15% de los nuevos usuarios de la región UE                |\n",
    "| **Período de inscripción**  | Del 7 al 21 de diciembre de 2020                          |\n",
    "| **Fin del período de prueba** | 1 de enero de 2021                                     |\n",
    "| **Duración de análisis por usuario** | 14 días desde la fecha de inscripción        |\n",
    "\n",
    "---\n",
    "\n",
    "### 📌 Objetivo específico\n",
    "Determinar si los usuarios del **grupo B** presentan una **mejor conversión** en las siguientes etapas del embudo de ventas:\n",
    "\n",
    "1. `product_page` → vista de una página de producto  \n",
    "2. `product_cart` → agregó producto al carrito  \n",
    "3. `purchase` → realizó una compra\n",
    "\n",
    "---\n",
    "\n",
    "### 📈 Criterio de éxito\n",
    "Se espera que el grupo B tenga una **tasa de conversión al menos un 10% mayor** que el grupo A en **cada etapa** del embudo.\n",
    "\n",
    "---\n",
    "\n",
    "### 📊 Hipótesis estadísticas\n",
    "\n",
    "Para cada evento del embudo:\n",
    "\n",
    "| Etapa del embudo | Hipótesis nula (H₀)     | Hipótesis alternativa (H₁)          |\n",
    "|------------------|--------------------------|--------------------------------------|\n",
    "| `product_page`   | p_B ≤ p_A                | p_B ≥ p_A × 1.10                     |\n",
    "| `product_cart`   | p_B ≤ p_A                | p_B ≥ p_A × 1.10                     |\n",
    "| `purchase`       | p_B ≤ p_A                | p_B ≥ p_A × 1.10                     |\n",
    "\n",
    "Donde `p_A` y `p_B` representan la tasa de conversión del grupo A (control) y del grupo B (experimental), respectivamente.\n",
    "\n",
    "---\n",
    "\n",
    "### 🔖 Nota importante\n",
    "Para cumplir con los criterios del experimento, **solo se deben considerar los eventos que ocurran dentro de los 14 días posteriores a la inscripción de cada usuario**.\n"
   ]
  },
  {
   "cell_type": "markdown",
   "metadata": {},
   "source": [
    "## 2. Carga y preprocesamiento de datos"
   ]
  },
  {
   "cell_type": "markdown",
   "metadata": {},
   "source": [
    "### 📦 Importación de librerías\n",
    "\n",
    "Importamos las librerías necesarias para análisis de datos, visualización y pruebas estadísticas. Usaremos `pandas` para manipulación de datos, `seaborn` y `matplotlib` para visualizaciones, y `statsmodels` y `scipy` para pruebas A/B.\n"
   ]
  },
  {
   "cell_type": "code",
   "execution_count": 1,
   "metadata": {},
   "outputs": [],
   "source": [
    "#importar librerias \n",
    "import pandas as pd \n",
    "import matplotlib.pyplot as plt\n",
    "import seaborn as sns\n",
    "import numpy as np\n",
    "from statsmodels.stats.proportion import proportions_ztest\n",
    "from scipy.stats import ttest_ind"
   ]
  },
  {
   "cell_type": "markdown",
   "metadata": {},
   "source": [
    "### 📥 Carga de los datasets\n",
    "\n",
    "Cargamos los cuatro archivos CSV proporcionados en el proyecto:\n",
    "\n",
    "- `df_marketing_events`: calendario de campañas de marketing.\n",
    "- `df_new_users`: usuarios registrados.\n",
    "- `df_events`: eventos realizados por los usuarios.\n",
    "- `df_participants`: usuarios asignados a grupos del experimento.\n",
    "\n",
    "Estas tablas nos permitirán validar la prueba A/B y analizar la conversión.\n"
   ]
  },
  {
   "cell_type": "code",
   "execution_count": 2,
   "metadata": {},
   "outputs": [],
   "source": [
    "#Cargar \n",
    "df_marketing_events = pd.read_csv('ab_project_marketing_events_us.csv')\n",
    "df_new_users = pd.read_csv('final_ab_new_users_upd_us.csv')\n",
    "df_events= pd.read_csv('final_ab_events_upd_us.csv')\n",
    "df_participants = pd.read_csv('final_ab_participants_upd_us.csv')"
   ]
  },
  {
   "cell_type": "markdown",
   "metadata": {},
   "source": [
    "### 🧾 Revisión inicial de tipos de datos y estructura\n",
    "\n",
    "Inspeccionamos la estructura de cada dataset (`.info()` y `.head()`) para verificar:\n",
    "\n",
    "- Cantidad de filas y columnas\n",
    "- Tipos de datos (para detectar fechas mal tipadas como `object`)\n",
    "- Ausencia de valores nulos en columnas clave\n"
   ]
  },
  {
   "cell_type": "code",
   "execution_count": 3,
   "metadata": {},
   "outputs": [
    {
     "name": "stdout",
     "output_type": "stream",
     "text": [
      "<class 'pandas.core.frame.DataFrame'>\n",
      "RangeIndex: 14 entries, 0 to 13\n",
      "Data columns (total 4 columns):\n",
      " #   Column     Non-Null Count  Dtype \n",
      "---  ------     --------------  ----- \n",
      " 0   name       14 non-null     object\n",
      " 1   regions    14 non-null     object\n",
      " 2   start_dt   14 non-null     object\n",
      " 3   finish_dt  14 non-null     object\n",
      "dtypes: object(4)\n",
      "memory usage: 580.0+ bytes\n",
      "<class 'pandas.core.frame.DataFrame'>\n",
      "RangeIndex: 58703 entries, 0 to 58702\n",
      "Data columns (total 4 columns):\n",
      " #   Column      Non-Null Count  Dtype \n",
      "---  ------      --------------  ----- \n",
      " 0   user_id     58703 non-null  object\n",
      " 1   first_date  58703 non-null  object\n",
      " 2   region      58703 non-null  object\n",
      " 3   device      58703 non-null  object\n",
      "dtypes: object(4)\n",
      "memory usage: 1.8+ MB\n"
     ]
    }
   ],
   "source": [
    "df_marketing_events.info()\n",
    "df_new_users.info()"
   ]
  },
  {
   "cell_type": "code",
   "execution_count": 4,
   "metadata": {},
   "outputs": [
    {
     "data": {
      "text/html": [
       "<div>\n",
       "<style scoped>\n",
       "    .dataframe tbody tr th:only-of-type {\n",
       "        vertical-align: middle;\n",
       "    }\n",
       "\n",
       "    .dataframe tbody tr th {\n",
       "        vertical-align: top;\n",
       "    }\n",
       "\n",
       "    .dataframe thead th {\n",
       "        text-align: right;\n",
       "    }\n",
       "</style>\n",
       "<table border=\"1\" class=\"dataframe\">\n",
       "  <thead>\n",
       "    <tr style=\"text-align: right;\">\n",
       "      <th></th>\n",
       "      <th>name</th>\n",
       "      <th>regions</th>\n",
       "      <th>start_dt</th>\n",
       "      <th>finish_dt</th>\n",
       "    </tr>\n",
       "  </thead>\n",
       "  <tbody>\n",
       "    <tr>\n",
       "      <th>0</th>\n",
       "      <td>Christmas&amp;New Year Promo</td>\n",
       "      <td>EU, N.America</td>\n",
       "      <td>2020-12-25</td>\n",
       "      <td>2021-01-03</td>\n",
       "    </tr>\n",
       "    <tr>\n",
       "      <th>1</th>\n",
       "      <td>St. Valentine's Day Giveaway</td>\n",
       "      <td>EU, CIS, APAC, N.America</td>\n",
       "      <td>2020-02-14</td>\n",
       "      <td>2020-02-16</td>\n",
       "    </tr>\n",
       "    <tr>\n",
       "      <th>2</th>\n",
       "      <td>St. Patric's Day Promo</td>\n",
       "      <td>EU, N.America</td>\n",
       "      <td>2020-03-17</td>\n",
       "      <td>2020-03-19</td>\n",
       "    </tr>\n",
       "    <tr>\n",
       "      <th>3</th>\n",
       "      <td>Easter Promo</td>\n",
       "      <td>EU, CIS, APAC, N.America</td>\n",
       "      <td>2020-04-12</td>\n",
       "      <td>2020-04-19</td>\n",
       "    </tr>\n",
       "    <tr>\n",
       "      <th>4</th>\n",
       "      <td>4th of July Promo</td>\n",
       "      <td>N.America</td>\n",
       "      <td>2020-07-04</td>\n",
       "      <td>2020-07-11</td>\n",
       "    </tr>\n",
       "  </tbody>\n",
       "</table>\n",
       "</div>"
      ],
      "text/plain": [
       "                           name                   regions    start_dt  \\\n",
       "0      Christmas&New Year Promo             EU, N.America  2020-12-25   \n",
       "1  St. Valentine's Day Giveaway  EU, CIS, APAC, N.America  2020-02-14   \n",
       "2        St. Patric's Day Promo             EU, N.America  2020-03-17   \n",
       "3                  Easter Promo  EU, CIS, APAC, N.America  2020-04-12   \n",
       "4             4th of July Promo                 N.America  2020-07-04   \n",
       "\n",
       "    finish_dt  \n",
       "0  2021-01-03  \n",
       "1  2020-02-16  \n",
       "2  2020-03-19  \n",
       "3  2020-04-19  \n",
       "4  2020-07-11  "
      ]
     },
     "execution_count": 4,
     "metadata": {},
     "output_type": "execute_result"
    }
   ],
   "source": [
    "df_marketing_events.head()"
   ]
  },
  {
   "cell_type": "code",
   "execution_count": 5,
   "metadata": {},
   "outputs": [
    {
     "data": {
      "text/html": [
       "<div>\n",
       "<style scoped>\n",
       "    .dataframe tbody tr th:only-of-type {\n",
       "        vertical-align: middle;\n",
       "    }\n",
       "\n",
       "    .dataframe tbody tr th {\n",
       "        vertical-align: top;\n",
       "    }\n",
       "\n",
       "    .dataframe thead th {\n",
       "        text-align: right;\n",
       "    }\n",
       "</style>\n",
       "<table border=\"1\" class=\"dataframe\">\n",
       "  <thead>\n",
       "    <tr style=\"text-align: right;\">\n",
       "      <th></th>\n",
       "      <th>user_id</th>\n",
       "      <th>first_date</th>\n",
       "      <th>region</th>\n",
       "      <th>device</th>\n",
       "    </tr>\n",
       "  </thead>\n",
       "  <tbody>\n",
       "    <tr>\n",
       "      <th>0</th>\n",
       "      <td>D72A72121175D8BE</td>\n",
       "      <td>2020-12-07</td>\n",
       "      <td>EU</td>\n",
       "      <td>PC</td>\n",
       "    </tr>\n",
       "    <tr>\n",
       "      <th>1</th>\n",
       "      <td>F1C668619DFE6E65</td>\n",
       "      <td>2020-12-07</td>\n",
       "      <td>N.America</td>\n",
       "      <td>Android</td>\n",
       "    </tr>\n",
       "    <tr>\n",
       "      <th>2</th>\n",
       "      <td>2E1BF1D4C37EA01F</td>\n",
       "      <td>2020-12-07</td>\n",
       "      <td>EU</td>\n",
       "      <td>PC</td>\n",
       "    </tr>\n",
       "    <tr>\n",
       "      <th>3</th>\n",
       "      <td>50734A22C0C63768</td>\n",
       "      <td>2020-12-07</td>\n",
       "      <td>EU</td>\n",
       "      <td>iPhone</td>\n",
       "    </tr>\n",
       "    <tr>\n",
       "      <th>4</th>\n",
       "      <td>E1BDDCE0DAFA2679</td>\n",
       "      <td>2020-12-07</td>\n",
       "      <td>N.America</td>\n",
       "      <td>iPhone</td>\n",
       "    </tr>\n",
       "  </tbody>\n",
       "</table>\n",
       "</div>"
      ],
      "text/plain": [
       "            user_id  first_date     region   device\n",
       "0  D72A72121175D8BE  2020-12-07         EU       PC\n",
       "1  F1C668619DFE6E65  2020-12-07  N.America  Android\n",
       "2  2E1BF1D4C37EA01F  2020-12-07         EU       PC\n",
       "3  50734A22C0C63768  2020-12-07         EU   iPhone\n",
       "4  E1BDDCE0DAFA2679  2020-12-07  N.America   iPhone"
      ]
     },
     "execution_count": 5,
     "metadata": {},
     "output_type": "execute_result"
    }
   ],
   "source": [
    "df_new_users.head()"
   ]
  },
  {
   "cell_type": "code",
   "execution_count": 6,
   "metadata": {},
   "outputs": [
    {
     "name": "stdout",
     "output_type": "stream",
     "text": [
      "<class 'pandas.core.frame.DataFrame'>\n",
      "RangeIndex: 423761 entries, 0 to 423760\n",
      "Data columns (total 4 columns):\n",
      " #   Column      Non-Null Count   Dtype  \n",
      "---  ------      --------------   -----  \n",
      " 0   user_id     423761 non-null  object \n",
      " 1   event_dt    423761 non-null  object \n",
      " 2   event_name  423761 non-null  object \n",
      " 3   details     60314 non-null   float64\n",
      "dtypes: float64(1), object(3)\n",
      "memory usage: 12.9+ MB\n",
      "<class 'pandas.core.frame.DataFrame'>\n",
      "RangeIndex: 14525 entries, 0 to 14524\n",
      "Data columns (total 3 columns):\n",
      " #   Column   Non-Null Count  Dtype \n",
      "---  ------   --------------  ----- \n",
      " 0   user_id  14525 non-null  object\n",
      " 1   group    14525 non-null  object\n",
      " 2   ab_test  14525 non-null  object\n",
      "dtypes: object(3)\n",
      "memory usage: 340.6+ KB\n"
     ]
    }
   ],
   "source": [
    "df_events.info()\n",
    "df_participants.info()"
   ]
  },
  {
   "cell_type": "code",
   "execution_count": 7,
   "metadata": {},
   "outputs": [
    {
     "data": {
      "text/html": [
       "<div>\n",
       "<style scoped>\n",
       "    .dataframe tbody tr th:only-of-type {\n",
       "        vertical-align: middle;\n",
       "    }\n",
       "\n",
       "    .dataframe tbody tr th {\n",
       "        vertical-align: top;\n",
       "    }\n",
       "\n",
       "    .dataframe thead th {\n",
       "        text-align: right;\n",
       "    }\n",
       "</style>\n",
       "<table border=\"1\" class=\"dataframe\">\n",
       "  <thead>\n",
       "    <tr style=\"text-align: right;\">\n",
       "      <th></th>\n",
       "      <th>user_id</th>\n",
       "      <th>event_dt</th>\n",
       "      <th>event_name</th>\n",
       "      <th>details</th>\n",
       "    </tr>\n",
       "  </thead>\n",
       "  <tbody>\n",
       "    <tr>\n",
       "      <th>0</th>\n",
       "      <td>E1BDDCE0DAFA2679</td>\n",
       "      <td>2020-12-07 20:22:03</td>\n",
       "      <td>purchase</td>\n",
       "      <td>99.99</td>\n",
       "    </tr>\n",
       "    <tr>\n",
       "      <th>1</th>\n",
       "      <td>7B6452F081F49504</td>\n",
       "      <td>2020-12-07 09:22:53</td>\n",
       "      <td>purchase</td>\n",
       "      <td>9.99</td>\n",
       "    </tr>\n",
       "    <tr>\n",
       "      <th>2</th>\n",
       "      <td>9CD9F34546DF254C</td>\n",
       "      <td>2020-12-07 12:59:29</td>\n",
       "      <td>purchase</td>\n",
       "      <td>4.99</td>\n",
       "    </tr>\n",
       "    <tr>\n",
       "      <th>3</th>\n",
       "      <td>96F27A054B191457</td>\n",
       "      <td>2020-12-07 04:02:40</td>\n",
       "      <td>purchase</td>\n",
       "      <td>4.99</td>\n",
       "    </tr>\n",
       "    <tr>\n",
       "      <th>4</th>\n",
       "      <td>1FD7660FDF94CA1F</td>\n",
       "      <td>2020-12-07 10:15:09</td>\n",
       "      <td>purchase</td>\n",
       "      <td>4.99</td>\n",
       "    </tr>\n",
       "  </tbody>\n",
       "</table>\n",
       "</div>"
      ],
      "text/plain": [
       "            user_id             event_dt event_name  details\n",
       "0  E1BDDCE0DAFA2679  2020-12-07 20:22:03   purchase    99.99\n",
       "1  7B6452F081F49504  2020-12-07 09:22:53   purchase     9.99\n",
       "2  9CD9F34546DF254C  2020-12-07 12:59:29   purchase     4.99\n",
       "3  96F27A054B191457  2020-12-07 04:02:40   purchase     4.99\n",
       "4  1FD7660FDF94CA1F  2020-12-07 10:15:09   purchase     4.99"
      ]
     },
     "execution_count": 7,
     "metadata": {},
     "output_type": "execute_result"
    }
   ],
   "source": [
    "df_events.head()"
   ]
  },
  {
   "cell_type": "code",
   "execution_count": 8,
   "metadata": {},
   "outputs": [
    {
     "data": {
      "text/html": [
       "<div>\n",
       "<style scoped>\n",
       "    .dataframe tbody tr th:only-of-type {\n",
       "        vertical-align: middle;\n",
       "    }\n",
       "\n",
       "    .dataframe tbody tr th {\n",
       "        vertical-align: top;\n",
       "    }\n",
       "\n",
       "    .dataframe thead th {\n",
       "        text-align: right;\n",
       "    }\n",
       "</style>\n",
       "<table border=\"1\" class=\"dataframe\">\n",
       "  <thead>\n",
       "    <tr style=\"text-align: right;\">\n",
       "      <th></th>\n",
       "      <th>user_id</th>\n",
       "      <th>group</th>\n",
       "      <th>ab_test</th>\n",
       "    </tr>\n",
       "  </thead>\n",
       "  <tbody>\n",
       "    <tr>\n",
       "      <th>0</th>\n",
       "      <td>D1ABA3E2887B6A73</td>\n",
       "      <td>A</td>\n",
       "      <td>recommender_system_test</td>\n",
       "    </tr>\n",
       "    <tr>\n",
       "      <th>1</th>\n",
       "      <td>A7A3664BD6242119</td>\n",
       "      <td>A</td>\n",
       "      <td>recommender_system_test</td>\n",
       "    </tr>\n",
       "    <tr>\n",
       "      <th>2</th>\n",
       "      <td>DABC14FDDFADD29E</td>\n",
       "      <td>A</td>\n",
       "      <td>recommender_system_test</td>\n",
       "    </tr>\n",
       "    <tr>\n",
       "      <th>3</th>\n",
       "      <td>04988C5DF189632E</td>\n",
       "      <td>A</td>\n",
       "      <td>recommender_system_test</td>\n",
       "    </tr>\n",
       "    <tr>\n",
       "      <th>4</th>\n",
       "      <td>4FF2998A348C484F</td>\n",
       "      <td>A</td>\n",
       "      <td>recommender_system_test</td>\n",
       "    </tr>\n",
       "  </tbody>\n",
       "</table>\n",
       "</div>"
      ],
      "text/plain": [
       "            user_id group                  ab_test\n",
       "0  D1ABA3E2887B6A73     A  recommender_system_test\n",
       "1  A7A3664BD6242119     A  recommender_system_test\n",
       "2  DABC14FDDFADD29E     A  recommender_system_test\n",
       "3  04988C5DF189632E     A  recommender_system_test\n",
       "4  4FF2998A348C484F     A  recommender_system_test"
      ]
     },
     "execution_count": 8,
     "metadata": {},
     "output_type": "execute_result"
    }
   ],
   "source": [
    "df_participants.head()"
   ]
  },
  {
   "cell_type": "markdown",
   "metadata": {},
   "source": [
    "### 🕒 Conversión de columnas de fecha\n",
    "\n",
    "Convertimos las columnas de fecha a tipo `datetime` para poder realizar comparaciones, filtros y cálculos de duración durante el análisis posterior.\n"
   ]
  },
  {
   "cell_type": "code",
   "execution_count": 9,
   "metadata": {},
   "outputs": [],
   "source": [
    "# Convertir columnas de fecha\n",
    "df_marketing_events['start_dt'] = pd.to_datetime(df_marketing_events['start_dt'])\n",
    "df_marketing_events['finish_dt'] = pd.to_datetime(df_marketing_events['finish_dt'])\n",
    "\n",
    "df_new_users['first_date'] = pd.to_datetime(df_new_users['first_date'])\n",
    "df_events['event_dt'] = pd.to_datetime(df_events['event_dt'])"
   ]
  },
  {
   "cell_type": "markdown",
   "metadata": {},
   "source": [
    "### 🔁 Verificación de duplicados\n",
    "\n",
    "Revisamos si hay filas duplicadas en los datasets principales. Esto es importante para evitar sesgos en el análisis, especialmente en `df_participants`, donde cada usuario debe aparecer una única vez.\n"
   ]
  },
  {
   "cell_type": "code",
   "execution_count": 10,
   "metadata": {},
   "outputs": [
    {
     "name": "stdout",
     "output_type": "stream",
     "text": [
      "Duplicados:\n",
      "marketing_events: 0\n",
      "new_users: 0\n",
      "events: 0\n",
      "participants: 0\n"
     ]
    }
   ],
   "source": [
    "# Revisar duplicados\n",
    "print(\"Duplicados:\")\n",
    "print(\"marketing_events:\", df_marketing_events.duplicated().sum())\n",
    "print(\"new_users:\", df_new_users.duplicated().sum())\n",
    "print(\"events:\", df_events.duplicated().sum())\n",
    "print(\"participants:\", df_participants.duplicated().sum())"
   ]
  },
  {
   "cell_type": "markdown",
   "metadata": {},
   "source": [
    "### 🔎 Revisión de valores nulos\n",
    "\n",
    "Verificamos si existen valores faltantes en los datasets. Esto es importante para:\n",
    "\n",
    "- Asegurar la integridad de los datos antes del análisis.\n",
    "- Detectar columnas como `details`, donde los nulos son esperados (por ejemplo, eventos que no son compras).\n"
   ]
  },
  {
   "cell_type": "code",
   "execution_count": 11,
   "metadata": {},
   "outputs": [
    {
     "name": "stdout",
     "output_type": "stream",
     "text": [
      "\n",
      "Valores nulos:\n",
      "marketing_events:\n",
      " name         0\n",
      "regions      0\n",
      "start_dt     0\n",
      "finish_dt    0\n",
      "dtype: int64\n",
      "new_users:\n",
      " user_id       0\n",
      "first_date    0\n",
      "region        0\n",
      "device        0\n",
      "dtype: int64\n",
      "events:\n",
      " user_id            0\n",
      "event_dt           0\n",
      "event_name         0\n",
      "details       363447\n",
      "dtype: int64\n",
      "participants:\n",
      " user_id    0\n",
      "group      0\n",
      "ab_test    0\n",
      "dtype: int64\n"
     ]
    }
   ],
   "source": [
    "# Revisar valores nulos\n",
    "print(\"\\nValores nulos:\")\n",
    "print(\"marketing_events:\\n\", df_marketing_events.isna().sum())\n",
    "print(\"new_users:\\n\", df_new_users.isna().sum())\n",
    "print(\"events:\\n\", df_events.isna().sum())\n",
    "print(\"participants:\\n\", df_participants.isna().sum())"
   ]
  },
  {
   "cell_type": "markdown",
   "metadata": {},
   "source": [
    "### 📆 Rango de fechas y regiones en usuarios nuevos\n",
    "\n",
    "Validamos que las fechas de inscripción de los usuarios estén dentro del período oficial del experimento (del 7 al 21 de diciembre de 2020).  \n",
    "También revisamos las regiones de los usuarios para asegurarnos de quedarnos únicamente con la región **EU**, que es la única incluida en el experimento.\n"
   ]
  },
  {
   "cell_type": "code",
   "execution_count": 12,
   "metadata": {},
   "outputs": [
    {
     "name": "stdout",
     "output_type": "stream",
     "text": [
      "Fechas de inscripción:\n",
      "2020-12-07 00:00:00 → 2020-12-23 00:00:00\n",
      "\n",
      "Regiones:\n",
      "region\n",
      "EU           43396\n",
      "N.America     9051\n",
      "CIS           3130\n",
      "APAC          3126\n",
      "Name: count, dtype: int64\n"
     ]
    }
   ],
   "source": [
    "# Rango de fechas en los nuevos usuarios\n",
    "print(\"Fechas de inscripción:\")\n",
    "print(df_new_users['first_date'].min(), \"→\", df_new_users['first_date'].max())\n",
    "\n",
    "# Revisar valores únicos en región\n",
    "print(\"\\nRegiones:\")\n",
    "print(df_new_users['region'].value_counts())\n"
   ]
  },
  {
   "cell_type": "markdown",
   "metadata": {},
   "source": [
    "### 🧹 Filtrado de usuarios válidos por fecha y región\n",
    "\n",
    "Filtramos `df_new_users` para incluir solo usuarios:\n",
    "\n",
    "- Registrados entre el **7 y el 21 de diciembre de 2020**.\n",
    "- De la región **UE**.\n",
    "\n",
    "Luego actualizamos `df_participants` para que contenga únicamente los `user_id` válidos según ese filtro.\n"
   ]
  },
  {
   "cell_type": "code",
   "execution_count": 13,
   "metadata": {},
   "outputs": [],
   "source": [
    "# Primero filtramos df_new_users por fecha y región:\n",
    "df_new_users = df_new_users[\n",
    "    (df_new_users['first_date'] >= '2020-12-07') &\n",
    "    (df_new_users['first_date'] <= '2020-12-21') &\n",
    "    (df_new_users['region'] == 'EU')\n",
    "]\n",
    "\n",
    "# filtramos df_participants para que solo queden los user_id válidos\n",
    "usuarios_validos = df_new_users['user_id'].unique()\n",
    "df_participants = df_participants[df_participants['user_id'].isin(usuarios_validos)]\n"
   ]
  },
  {
   "cell_type": "markdown",
   "metadata": {},
   "source": [
    "### ⚠️ Detección y eliminación de usuarios duplicados en `df_participants`\n",
    "\n",
    "Cada usuario debe estar asignado a un solo grupo A o B. Identificamos usuarios que aparecen más de una vez en el experimento (posiblemente en ambos grupos), lo cual invalida su participación.\n",
    "\n",
    "Procedemos a eliminar estos usuarios duplicados de todos los datasets para mantener la integridad de la prueba A/B.\n"
   ]
  },
  {
   "cell_type": "code",
   "execution_count": 14,
   "metadata": {},
   "outputs": [
    {
     "name": "stdout",
     "output_type": "stream",
     "text": [
      "Número de usuarios duplicados: 887\n",
      "             user_id group                  ab_test\n",
      "2   DABC14FDDFADD29E     A  recommender_system_test\n",
      "3   04988C5DF189632E     A  recommender_system_test\n",
      "8   B3A2485649E4A012     A  recommender_system_test\n",
      "15  EAFB9027A27D510C     B  recommender_system_test\n",
      "17  5D5E6EE92AF6E9E0     B  recommender_system_test\n"
     ]
    }
   ],
   "source": [
    "duplicados = df_participants.duplicated(subset='user_id', keep=False)\n",
    "usuarios_duplicados = df_participants[duplicados]\n",
    "print(\"Número de usuarios duplicados:\", usuarios_duplicados['user_id'].nunique())\n",
    "print(usuarios_duplicados.head())\n"
   ]
  },
  {
   "cell_type": "code",
   "execution_count": 15,
   "metadata": {},
   "outputs": [],
   "source": [
    "# Identificar todos los user_id duplicados \n",
    "usuarios_problematicos = df_participants[df_participants.duplicated('user_id', keep=False)]['user_id'].unique()\n",
    "\n",
    "# Eliminar esos usuarios de df_participants\n",
    "df_participants = df_participants[~df_participants['user_id'].isin(usuarios_problematicos)]"
   ]
  },
  {
   "cell_type": "code",
   "execution_count": 16,
   "metadata": {},
   "outputs": [],
   "source": [
    "df_events = df_events[~df_events['user_id'].isin(usuarios_problematicos)]\n",
    "df_new_users = df_new_users[~df_new_users['user_id'].isin(usuarios_problematicos)]"
   ]
  },
  {
   "cell_type": "markdown",
   "metadata": {},
   "source": [
    "### ✅ Verificación final del preprocesamiento\n",
    "\n",
    "Mostramos el tamaño de los datasets tras la limpieza. Ahora contamos con:\n",
    "\n",
    "- Solo usuarios únicos\n",
    "- Fechas y regiones válidas\n",
    "- Datos consistentes entre las tablas\n",
    "\n",
    "Estamos listos para pasar al análisis exploratorio de datos (EDA).\n"
   ]
  },
  {
   "cell_type": "code",
   "execution_count": 17,
   "metadata": {},
   "outputs": [
    {
     "name": "stdout",
     "output_type": "stream",
     "text": [
      "Participantes finales: (11555, 3)\n",
      "Eventos finales: (418046, 4)\n",
      "Usuarios nuevos finales: (38579, 4)\n"
     ]
    }
   ],
   "source": [
    "print(\"Participantes finales:\", df_participants.shape)\n",
    "print(\"Eventos finales:\", df_events.shape)\n",
    "print(\"Usuarios nuevos finales:\", df_new_users.shape)"
   ]
  },
  {
   "cell_type": "markdown",
   "metadata": {},
   "source": [
    "## 3. Análisis exploratorio (EDA)"
   ]
  },
  {
   "cell_type": "markdown",
   "metadata": {},
   "source": [
    "### 🔍 Conteo de usuarios por grupo\n",
    "\n",
    "Contamos la cantidad de usuarios asignados a cada grupo del experimento (`A` y `B`). Esto nos permite confirmar que la asignación fue equilibrada y que no hubo sesgos al momento de dividir a los usuarios."
   ]
  },
  {
   "cell_type": "code",
   "execution_count": 18,
   "metadata": {},
   "outputs": [
    {
     "data": {
      "text/plain": [
       "group\n",
       "A    6461\n",
       "B    5094\n",
       "Name: count, dtype: int64"
      ]
     },
     "execution_count": 18,
     "metadata": {},
     "output_type": "execute_result"
    }
   ],
   "source": [
    "# Conteo de usuarios por grupo\n",
    "df_participants['group'].value_counts()"
   ]
  },
  {
   "cell_type": "markdown",
   "metadata": {},
   "source": [
    "### 🌍 Distribución geográfica de los usuarios\n",
    "\n",
    "Verificamos la distribución por región de los usuarios nuevos. En este caso, todos los usuarios provienen de la región `EU`, lo que indica que el análisis se enfoca únicamente en ese mercado."
   ]
  },
  {
   "cell_type": "code",
   "execution_count": 19,
   "metadata": {},
   "outputs": [
    {
     "data": {
      "text/plain": [
       "region\n",
       "EU    38579\n",
       "Name: count, dtype: int64"
      ]
     },
     "execution_count": 19,
     "metadata": {},
     "output_type": "execute_result"
    }
   ],
   "source": [
    "df_new_users['region'].value_counts()"
   ]
  },
  {
   "cell_type": "markdown",
   "metadata": {},
   "source": [
    "### 📈 Distribución de eventos por usuario\n",
    "\n",
    "Graficamos la cantidad de eventos realizados por usuario. Esto nos ayuda a entender el comportamiento general y detectar la presencia de usuarios muy activos (outliers), que podrían distorsionar el análisis si no se ajusta correctamente."
   ]
  },
  {
   "cell_type": "code",
   "execution_count": 20,
   "metadata": {},
   "outputs": [
    {
     "data": {
      "image/png": "[encoded data removed]",
      "text/plain": [
       "<Figure size 1000x500 with 1 Axes>"
      ]
     },
     "metadata": {},
     "output_type": "display_data"
    }
   ],
   "source": [
    "# Contar número de eventos por usuario\n",
    "eventos_por_usuario = df_events['user_id'].value_counts()\n",
    "plt.figure(figsize=(10, 5))\n",
    "sns.histplot(eventos_por_usuario, bins=100, kde=False)\n",
    "plt.title('Distribución de eventos por usuario')\n",
    "plt.xlabel('Eventos por usuario')\n",
    "plt.ylabel('Cantidad de usuarios')\n",
    "plt.xlim(0, 100)  # outliers extremos y ver mejor el cuerpo principal\n",
    "plt.show()"
   ]
  },
  {
   "cell_type": "markdown",
   "metadata": {},
   "source": [
    "### 📅 Cantidad total de eventos por día\n",
    "\n",
    "Visualizamos el número total de eventos registrados por día para identificar tendencias a lo largo del tiempo. Se observa un pico notable antes del 25 de diciembre, probablemente influenciado por las festividades navideñas."
   ]
  },
  {
   "cell_type": "code",
   "execution_count": 21,
   "metadata": {},
   "outputs": [
    {
     "data": {
      "image/png": "[encoded data removed]",
      "text/plain": [
       "<Figure size 1200x500 with 1 Axes>"
      ]
     },
     "metadata": {},
     "output_type": "display_data"
    }
   ],
   "source": [
    "# Eventos por día\n",
    "eventos_diarios = df_events.groupby(df_events['event_dt'].dt.date)['event_name'].count()\n",
    "\n",
    "plt.figure(figsize=(12, 5))\n",
    "eventos_diarios.plot()\n",
    "plt.title('Cantidad total de eventos por día')\n",
    "plt.xlabel('Fecha')\n",
    "plt.ylabel('Cantidad de eventos')\n",
    "plt.xticks(rotation=45)\n",
    "plt.grid()\n",
    "plt.show()"
   ]
  },
  {
   "cell_type": "markdown",
   "metadata": {},
   "source": [
    "### 🎯 Campañas activas durante diciembre\n",
    "\n",
    "Revisamos las campañas de marketing activas en diciembre, como la \"Christmas&New Year Promo\", que pudo haber impactado el comportamiento de los usuarios durante el experimento. Es clave tenerlo en cuenta al interpretar los resultados."
   ]
  },
  {
   "cell_type": "code",
   "execution_count": 22,
   "metadata": {},
   "outputs": [
    {
     "data": {
      "text/html": [
       "<div>\n",
       "<style scoped>\n",
       "    .dataframe tbody tr th:only-of-type {\n",
       "        vertical-align: middle;\n",
       "    }\n",
       "\n",
       "    .dataframe tbody tr th {\n",
       "        vertical-align: top;\n",
       "    }\n",
       "\n",
       "    .dataframe thead th {\n",
       "        text-align: right;\n",
       "    }\n",
       "</style>\n",
       "<table border=\"1\" class=\"dataframe\">\n",
       "  <thead>\n",
       "    <tr style=\"text-align: right;\">\n",
       "      <th></th>\n",
       "      <th>name</th>\n",
       "      <th>regions</th>\n",
       "      <th>start_dt</th>\n",
       "      <th>finish_dt</th>\n",
       "    </tr>\n",
       "  </thead>\n",
       "  <tbody>\n",
       "    <tr>\n",
       "      <th>0</th>\n",
       "      <td>Christmas&amp;New Year Promo</td>\n",
       "      <td>EU, N.America</td>\n",
       "      <td>2020-12-25</td>\n",
       "      <td>2021-01-03</td>\n",
       "    </tr>\n",
       "    <tr>\n",
       "      <th>10</th>\n",
       "      <td>CIS New Year Gift Lottery</td>\n",
       "      <td>CIS</td>\n",
       "      <td>2020-12-30</td>\n",
       "      <td>2021-01-07</td>\n",
       "    </tr>\n",
       "  </tbody>\n",
       "</table>\n",
       "</div>"
      ],
      "text/plain": [
       "                         name        regions   start_dt  finish_dt\n",
       "0    Christmas&New Year Promo  EU, N.America 2020-12-25 2021-01-03\n",
       "10  CIS New Year Gift Lottery            CIS 2020-12-30 2021-01-07"
      ]
     },
     "execution_count": 22,
     "metadata": {},
     "output_type": "execute_result"
    }
   ],
   "source": [
    "# Mostrar campañas activas durante diciembre\n",
    "campañas_diciembre = df_marketing_events[\n",
    "    (df_marketing_events['start_dt'].dt.month == 12) &\n",
    "    (df_marketing_events['start_dt'].dt.year == 2020)\n",
    "]\n",
    "\n",
    "campañas_diciembre"
   ]
  },
  {
   "cell_type": "markdown",
   "metadata": {},
   "source": [
    "### ✅ Verificación de duplicados en participantes\n",
    "\n",
    "Nos aseguramos de que no haya usuarios duplicados en la tabla de participantes. Confirmamos que cada `user_id` aparece solo una vez, garantizando que los grupos del experimento están correctamente definidos."
   ]
  },
  {
   "cell_type": "code",
   "execution_count": 23,
   "metadata": {},
   "outputs": [
    {
     "data": {
      "text/plain": [
       "np.int64(0)"
      ]
     },
     "execution_count": 23,
     "metadata": {},
     "output_type": "execute_result"
    }
   ],
   "source": [
    "df_participants['user_id'].duplicated().sum()"
   ]
  },
  {
   "cell_type": "markdown",
   "metadata": {},
   "source": [
    "## 4. Análisis del embudo de conversión"
   ]
  },
  {
   "cell_type": "markdown",
   "metadata": {},
   "source": [
    "### 🧩 Preparación de usuarios para el análisis del embudo\n",
    "\n",
    "Unimos la información de los participantes con sus fechas de inscripción para poder calcular con precisión los eventos que ocurrieron dentro de los **14 días posteriores al registro**, como exige el experimento."
   ]
  },
  {
   "cell_type": "code",
   "execution_count": 24,
   "metadata": {},
   "outputs": [],
   "source": [
    "# Unir para obtener la fecha de inscripción de cada participante\n",
    "df_users = df_participants.merge(df_new_users[['user_id', 'first_date']], on='user_id', how='left')"
   ]
  },
  {
   "cell_type": "markdown",
   "metadata": {},
   "source": [
    "### ⏳ Filtrado de eventos dentro del período de análisis\n",
    "\n",
    "Para cada usuario, consideramos únicamente los eventos que ocurrieron durante los primeros **14 días desde su inscripción**.  \n",
    "Esto garantiza que analizamos el comportamiento en el mismo marco temporal para todos los participantes."
   ]
  },
  {
   "cell_type": "code",
   "execution_count": 25,
   "metadata": {},
   "outputs": [],
   "source": [
    "# Unir eventos con la fecha de inscripción\n",
    "df_events_filtrados = df_events.merge(df_users[['user_id', 'first_date']], on='user_id', how='inner')\n",
    "\n",
    "# Calcular días desde la inscripción\n",
    "df_events_filtrados['days_since_signup'] = (df_events_filtrados['event_dt'] - df_events_filtrados['first_date']).dt.days\n",
    "\n",
    "# Filtrar solo los eventos dentro de los primeros 14 días\n",
    "df_events_filtrados = df_events_filtrados[df_events_filtrados['days_since_signup'] < 14]"
   ]
  },
  {
   "cell_type": "markdown",
   "metadata": {},
   "source": [
    "### 🔄 Construcción del embudo de conversión por usuario\n",
    "\n",
    "Creamos una tabla donde cada fila representa un usuario y cada columna indica si completó o no cada etapa del embudo:\n",
    "\n",
    "- `viewed_product_page`: vio al menos un producto\n",
    "- `added_to_cart`: agregó al carrito\n",
    "- `made_purchase`: realizó una compra\n",
    "\n",
    "Esto nos permitirá comparar tasas de conversión entre los grupos A y B."
   ]
  },
  {
   "cell_type": "code",
   "execution_count": 26,
   "metadata": {},
   "outputs": [],
   "source": [
    "# Crear columnas binarias por usuario\n",
    "embudo = df_events_filtrados.pivot_table(\n",
    "    index='user_id',\n",
    "    columns='event_name',\n",
    "    values='event_dt',\n",
    "    aggfunc='min'  \n",
    ").notna().astype(int).reset_index()\n",
    "\n",
    "# Renombrar columnas para que sean más claras\n",
    "embudo.columns.name = None\n",
    "embudo = embudo.rename(columns={\n",
    "    'product_page': 'viewed_product_page',\n",
    "    'product_cart': 'added_to_cart',\n",
    "    'purchase': 'made_purchase'\n",
    "})"
   ]
  },
  {
   "cell_type": "code",
   "execution_count": 27,
   "metadata": {},
   "outputs": [],
   "source": [
    "# Unir con los grupos\n",
    "embudo = embudo.merge(df_users[['user_id', 'group']], on='user_id', how='left')"
   ]
  },
  {
   "cell_type": "code",
   "execution_count": 28,
   "metadata": {},
   "outputs": [
    {
     "data": {
      "text/html": [
       "<div>\n",
       "<style scoped>\n",
       "    .dataframe tbody tr th:only-of-type {\n",
       "        vertical-align: middle;\n",
       "    }\n",
       "\n",
       "    .dataframe tbody tr th {\n",
       "        vertical-align: top;\n",
       "    }\n",
       "\n",
       "    .dataframe thead th {\n",
       "        text-align: right;\n",
       "    }\n",
       "</style>\n",
       "<table border=\"1\" class=\"dataframe\">\n",
       "  <thead>\n",
       "    <tr style=\"text-align: right;\">\n",
       "      <th></th>\n",
       "      <th>user_id</th>\n",
       "      <th>login</th>\n",
       "      <th>added_to_cart</th>\n",
       "      <th>viewed_product_page</th>\n",
       "      <th>made_purchase</th>\n",
       "      <th>group</th>\n",
       "    </tr>\n",
       "  </thead>\n",
       "  <tbody>\n",
       "    <tr>\n",
       "      <th>0</th>\n",
       "      <td>0002CE61FF2C4011</td>\n",
       "      <td>1</td>\n",
       "      <td>1</td>\n",
       "      <td>1</td>\n",
       "      <td>0</td>\n",
       "      <td>A</td>\n",
       "    </tr>\n",
       "    <tr>\n",
       "      <th>1</th>\n",
       "      <td>0010A1C096941592</td>\n",
       "      <td>1</td>\n",
       "      <td>0</td>\n",
       "      <td>1</td>\n",
       "      <td>1</td>\n",
       "      <td>A</td>\n",
       "    </tr>\n",
       "    <tr>\n",
       "      <th>2</th>\n",
       "      <td>001E72F50D1C48FA</td>\n",
       "      <td>1</td>\n",
       "      <td>0</td>\n",
       "      <td>1</td>\n",
       "      <td>0</td>\n",
       "      <td>B</td>\n",
       "    </tr>\n",
       "    <tr>\n",
       "      <th>3</th>\n",
       "      <td>002412F1EB3F6E38</td>\n",
       "      <td>1</td>\n",
       "      <td>0</td>\n",
       "      <td>1</td>\n",
       "      <td>0</td>\n",
       "      <td>A</td>\n",
       "    </tr>\n",
       "    <tr>\n",
       "      <th>4</th>\n",
       "      <td>002540BE89C930FB</td>\n",
       "      <td>1</td>\n",
       "      <td>1</td>\n",
       "      <td>1</td>\n",
       "      <td>0</td>\n",
       "      <td>A</td>\n",
       "    </tr>\n",
       "  </tbody>\n",
       "</table>\n",
       "</div>"
      ],
      "text/plain": [
       "            user_id  login  added_to_cart  viewed_product_page  made_purchase  \\\n",
       "0  0002CE61FF2C4011      1              1                    1              0   \n",
       "1  0010A1C096941592      1              0                    1              1   \n",
       "2  001E72F50D1C48FA      1              0                    1              0   \n",
       "3  002412F1EB3F6E38      1              0                    1              0   \n",
       "4  002540BE89C930FB      1              1                    1              0   \n",
       "\n",
       "  group  \n",
       "0     A  \n",
       "1     A  \n",
       "2     B  \n",
       "3     A  \n",
       "4     A  "
      ]
     },
     "execution_count": 28,
     "metadata": {},
     "output_type": "execute_result"
    }
   ],
   "source": [
    "embudo.head()"
   ]
  },
  {
   "cell_type": "markdown",
   "metadata": {},
   "source": [
    "### 📊 Cálculo de tasas de conversión por grupo\n",
    "\n",
    "Calculamos el porcentaje de usuarios que completaron cada etapa del embudo en cada grupo (A y B).  \n",
    "Estas tasas nos dan una primera visión comparativa antes de aplicar pruebas estadísticas."
   ]
  },
  {
   "cell_type": "code",
   "execution_count": 29,
   "metadata": {},
   "outputs": [
    {
     "data": {
      "text/html": [
       "<div>\n",
       "<style scoped>\n",
       "    .dataframe tbody tr th:only-of-type {\n",
       "        vertical-align: middle;\n",
       "    }\n",
       "\n",
       "    .dataframe tbody tr th {\n",
       "        vertical-align: top;\n",
       "    }\n",
       "\n",
       "    .dataframe thead th {\n",
       "        text-align: right;\n",
       "    }\n",
       "</style>\n",
       "<table border=\"1\" class=\"dataframe\">\n",
       "  <thead>\n",
       "    <tr style=\"text-align: right;\">\n",
       "      <th></th>\n",
       "      <th>viewed_product_page</th>\n",
       "      <th>added_to_cart</th>\n",
       "      <th>made_purchase</th>\n",
       "    </tr>\n",
       "    <tr>\n",
       "      <th>group</th>\n",
       "      <th></th>\n",
       "      <th></th>\n",
       "      <th></th>\n",
       "    </tr>\n",
       "  </thead>\n",
       "  <tbody>\n",
       "    <tr>\n",
       "      <th>A</th>\n",
       "      <td>66.49</td>\n",
       "      <td>32.01</td>\n",
       "      <td>34.44</td>\n",
       "    </tr>\n",
       "    <tr>\n",
       "      <th>B</th>\n",
       "      <td>64.40</td>\n",
       "      <td>33.38</td>\n",
       "      <td>32.79</td>\n",
       "    </tr>\n",
       "  </tbody>\n",
       "</table>\n",
       "</div>"
      ],
      "text/plain": [
       "       viewed_product_page  added_to_cart  made_purchase\n",
       "group                                                   \n",
       "A                    66.49          32.01          34.44\n",
       "B                    64.40          33.38          32.79"
      ]
     },
     "execution_count": 29,
     "metadata": {},
     "output_type": "execute_result"
    }
   ],
   "source": [
    "# Agrupar por grupo y calcular tasas de conversión\n",
    "conversiones = embudo.groupby('group')[['viewed_product_page', 'added_to_cart', 'made_purchase']].mean().round(4) * 100\n",
    "\n",
    "# Mostrar como porcentaje\n",
    "conversiones"
   ]
  },
  {
   "cell_type": "markdown",
   "metadata": {},
   "source": [
    "## 5. Evaluación de la prueba A/B"
   ]
  },
  {
   "cell_type": "code",
   "execution_count": 30,
   "metadata": {},
   "outputs": [],
   "source": [
    "# Total de usuarios por grupo\n",
    "total_por_grupo = embudo['group'].value_counts()\n",
    "\n",
    "# Contar usuarios que completaron cada etapa por grupo\n",
    "conversion_counts = embudo.groupby('group')[['viewed_product_page', 'added_to_cart', 'made_purchase']].sum()"
   ]
  },
  {
   "cell_type": "markdown",
   "metadata": {},
   "source": [
    "### 🧪 Prueba estadística \n",
    "\n",
    "Aplicamos una prueba z para comparar si las diferencias en tasas de conversión entre los grupos A y B son **estadísticamente significativas**.  \n",
    "Esto nos permite determinar si los cambios observados podrían deberse al azar o reflejan una mejora real."
   ]
  },
  {
   "cell_type": "code",
   "execution_count": 31,
   "metadata": {},
   "outputs": [
    {
     "name": "stdout",
     "output_type": "stream",
     "text": [
      "Etapa: viewed_product_page\n",
      "  Estadístico Z: 2.3405\n",
      "  p-valor: 0.0096\n",
      "------------------------------\n",
      "Etapa: added_to_cart\n",
      "  Estadístico Z: -1.5558\n",
      "  p-valor: 0.9401\n",
      "------------------------------\n",
      "Etapa: made_purchase\n",
      "  Estadístico Z: 1.8656\n",
      "  p-valor: 0.0311\n",
      "------------------------------\n"
     ]
    }
   ],
   "source": [
    "# Función para aplicar test Z entre A y B en cada etapa\n",
    "def test_z_por_etapa(etapa):\n",
    "    successes = [conversion_counts.loc['A', etapa], conversion_counts.loc['B', etapa]]\n",
    "    nobs = [total_por_grupo['A'], total_por_grupo['B']]\n",
    "    stat, pval = proportions_ztest(count=successes, nobs=nobs, alternative='larger')\n",
    "    return round(stat, 4), round(pval, 4)\n",
    "\n",
    "# Aplicar a cada etapa\n",
    "for etapa in ['viewed_product_page', 'added_to_cart', 'made_purchase']:\n",
    "    stat, pval = test_z_por_etapa(etapa)\n",
    "    print(f\"Etapa: {etapa}\")\n",
    "    print(f\"  Estadístico Z: {stat}\")\n",
    "    print(f\"  p-valor: {pval}\")\n",
    "    print(\"-\" * 30)"
   ]
  },
  {
   "cell_type": "markdown",
   "metadata": {},
   "source": [
    "## 6. Conclusiones"
   ]
  },
  {
   "cell_type": "markdown",
   "metadata": {},
   "source": [
    "### 🎯 Objetivo del experimento\n",
    "El objetivo de la prueba A/B `recommender_system_test` era evaluar si un nuevo sistema de recomendaciones mejora la conversión en el embudo de ventas dentro de los 14 días posteriores al registro de los usuarios.\n",
    "\n",
    "Se esperaba un aumento mínimo del **10%** en las siguientes etapas:\n",
    "\n",
    "- Vista de producto (`product_page`)\n",
    "- Agregado al carrito (`product_cart`)\n",
    "- Compra (`purchase`)\n",
    "\n",
    "---\n",
    "\n",
    "### 📊 Resultados obtenidos\n",
    "\n",
    "| Etapa                | Grupo A (%) | Grupo B (%) | Diferencia | p-valor | ¿Significativo? |\n",
    "|----------------------|-------------|-------------|------------|---------|------------------|\n",
    "| `product_page`       | 66.49       | 64.40       | -2.09      | 0.0096  | ✅ Sí            |\n",
    "| `product_cart`       | 32.01       | 33.38       | +1.37      | 0.9401  | ❌ No            |\n",
    "| `purchase`           | 34.44       | 32.79       | -1.65      | 0.0311  | ✅ Sí (en contra) |\n",
    "\n",
    "> 🔍 *Nota: Aunque las diferencias en `product_page` y `purchase` fueron estadísticamente significativas, ninguna alcanzó el 10% de mejora requerido. Además, en `purchase` el grupo B tuvo **peor rendimiento** que A.*\n",
    "\n",
    "---\n",
    "\n",
    "### ⚖️ Interpretación\n",
    "\n",
    "- ✅ El grupo B tuvo una **mejor tasa de visualización de productos**, pero **no cumplió con el aumento del 10% requerido**.\n",
    "- ❌ En la etapa de agregado al carrito, **no hubo diferencias significativas** entre los grupos.\n",
    "- ⚠️ En la etapa más crítica (`purchase`), el **grupo A superó a B**, lo que **podría indicar un efecto negativo del nuevo sistema**.\n",
    "\n",
    "---\n",
    "\n",
    "### 🧠 Conclusión general\n",
    "\n",
    "La implementación del nuevo sistema **no logró mejorar el embudo de conversión** de manera significativa ni alcanzar los objetivos planteados.\n",
    "\n",
    "---\n",
    "\n",
    "### 💡 Recomendaciones\n",
    "\n",
    "- **No implementar el nuevo sistema de recomendaciones por ahora**. Su efecto en la etapa de compra es preocupante.\n",
    "- Revisar el diseño y lógica del nuevo sistema para entender por qué pudo haber afectado negativamente la conversión.\n",
    "- Considerar una **nueva iteración del experimento** con un rediseño del sistema y una mejor distribución de grupos.\n",
    "- Si se insiste en implementarlo, hacerlo en un entorno controlado o con usuarios menos sensibles (por ejemplo, nuevos visitantes, no usuarios recurrentes).\n",
    "\n",
    "---\n",
    "\n",
    "### 📌 Limitaciones\n",
    "\n",
    "- Ligera diferencia en tamaño entre grupos A y B.\n",
    "- Actividad de los usuarios más recientes coincidió con campañas navideñas, lo cual podría haber influido en su comportamiento.\n",
    "- El experimento solo incluyó usuarios de la región UE.\n",
    "\n",
    "---\n",
    "\n",
    "### 🏁 Veredicto final\n",
    "\n",
    "❌ **El experimento no valida la implementación del nuevo sistema de recomendaciones.**  \n",
    "📊 **Los datos indican que no mejora la conversión y puede incluso afectarla negativamente.**\n"
   ]
  }
 ],
 "metadata": {
  "kernelspec": {
   "display_name": "Python 3",
   "language": "python",
   "name": "python3"
  },
  "language_info": {
   "codemirror_mode": {
    "name": "ipython",
    "version": 3
   },
   "file_extension": ".py",
   "mimetype": "text/x-python",
   "name": "python",
   "nbconvert_exporter": "python",
   "pygments_lexer": "ipython3",
   "version": "3.13.2"
  }
 },
 "nbformat": 4,
 "nbformat_minor": 2
}
